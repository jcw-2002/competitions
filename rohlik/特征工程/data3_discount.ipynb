{
 "cells": [
  {
   "cell_type": "code",
   "execution_count": 1,
   "metadata": {},
   "outputs": [],
   "source": [
    "import pandas as pd\n",
    "import numpy as np\n",
    "# 读取数据\n",
    "train_df = pd.read_csv('train_d.csv')\n",
    "test_df = pd.read_csv('test_d.csv')"
   ]
  },
  {
   "cell_type": "code",
   "execution_count": 2,
   "metadata": {},
   "outputs": [
    {
     "data": {
      "text/plain": [
       "name\n",
       "Banana_10       5606\n",
       "Toust_13        5606\n",
       "Date_1          5602\n",
       "Orange_14       5601\n",
       "Bread_198       5600\n",
       "                ... \n",
       "Watermelon_1       8\n",
       "Decoration_0       8\n",
       "Apple_71           7\n",
       "Ginger_5           7\n",
       "Strawberry_4       7\n",
       "Name: count, Length: 2653, dtype: int64"
      ]
     },
     "execution_count": 2,
     "metadata": {},
     "output_type": "execute_result"
    }
   ],
   "source": [
    "train_df['name'].value_counts()"
   ]
  },
  {
   "cell_type": "code",
   "execution_count": 3,
   "metadata": {},
   "outputs": [
    {
     "data": {
      "text/plain": [
       "product_unique_id\n",
       "1279    5606\n",
       "1009    5606\n",
       "2087    5602\n",
       "1280    5601\n",
       "2312    5600\n",
       "        ... \n",
       "32         8\n",
       "2214       8\n",
       "1226       7\n",
       "1899       7\n",
       "122        7\n",
       "Name: count, Length: 2653, dtype: int64"
      ]
     },
     "execution_count": 3,
     "metadata": {},
     "output_type": "execute_result"
    }
   ],
   "source": [
    "train_df['product_unique_id'].value_counts()"
   ]
  },
  {
   "cell_type": "code",
   "execution_count": 4,
   "metadata": {},
   "outputs": [
    {
     "data": {
      "text/plain": [
       "Index(['unique_id', 'date', 'warehouse', 'total_orders', 'sales',\n",
       "       'sell_price_main', 'type_0_discount', 'type_1_discount',\n",
       "       'type_2_discount', 'type_3_discount', 'type_4_discount',\n",
       "       'type_5_discount', 'type_6_discount', 'holiday_name', 'holiday',\n",
       "       'shops_closed', 'winter_school_holidays', 'school_holidays',\n",
       "       'product_unique_id', 'name', 'L1_category_name_en',\n",
       "       'L2_category_name_en', 'L3_category_name_en', 'L4_category_name_en',\n",
       "       'year', 'month_sin', 'month_cos', 'day_sin', 'day_cos'],\n",
       "      dtype='object')"
      ]
     },
     "execution_count": 4,
     "metadata": {},
     "output_type": "execute_result"
    }
   ],
   "source": [
    "train_df.columns"
   ]
  },
  {
   "cell_type": "markdown",
   "metadata": {},
   "source": [
    "## 处理折扣列，删除折扣，改为最大折扣"
   ]
  },
  {
   "cell_type": "code",
   "execution_count": 5,
   "metadata": {},
   "outputs": [],
   "source": [
    "# 定义折扣列\n",
    "discount_columns = [\n",
    "    'type_0_discount', 'type_1_discount', 'type_2_discount',\n",
    "    'type_3_discount', 'type_4_discount', 'type_5_discount', 'type_6_discount'\n",
    "]\n",
    "\n",
    "# 对 train 和 test 数据分别处理\n",
    "for df in [train_df, test_df]:\n",
    "    # 1. 是否有折扣列\n",
    "    df['is_discount'] = df[discount_columns].apply(lambda row: 1 if row.any() else 0, axis=1).astype(bool)\n",
    "    \n",
    "    # 2. 最高折扣值列\n",
    "    df['max_discount'] = df[discount_columns].apply(lambda row: row.max(), axis=1).astype('float64')"
   ]
  },
  {
   "cell_type": "code",
   "execution_count": 6,
   "metadata": {},
   "outputs": [],
   "source": [
    "train_df.drop(columns=discount_columns, inplace=True)\n",
    "test_df.drop(columns=discount_columns, inplace=True)"
   ]
  },
  {
   "cell_type": "code",
   "execution_count": 7,
   "metadata": {},
   "outputs": [
    {
     "name": "stdout",
     "output_type": "stream",
     "text": [
      "<class 'pandas.core.frame.DataFrame'>\n",
      "RangeIndex: 4007367 entries, 0 to 4007366\n",
      "Data columns (total 24 columns):\n",
      " #   Column                  Dtype  \n",
      "---  ------                  -----  \n",
      " 0   unique_id               int64  \n",
      " 1   date                    object \n",
      " 2   warehouse               object \n",
      " 3   total_orders            float64\n",
      " 4   sales                   float64\n",
      " 5   sell_price_main         float64\n",
      " 6   holiday_name            object \n",
      " 7   holiday                 bool   \n",
      " 8   shops_closed            bool   \n",
      " 9   winter_school_holidays  bool   \n",
      " 10  school_holidays         bool   \n",
      " 11  product_unique_id       int64  \n",
      " 12  name                    object \n",
      " 13  L1_category_name_en     object \n",
      " 14  L2_category_name_en     object \n",
      " 15  L3_category_name_en     object \n",
      " 16  L4_category_name_en     object \n",
      " 17  year                    object \n",
      " 18  month_sin               float64\n",
      " 19  month_cos               float64\n",
      " 20  day_sin                 float64\n",
      " 21  day_cos                 float64\n",
      " 22  is_discount             bool   \n",
      " 23  max_discount            float64\n",
      "dtypes: bool(5), float64(8), int64(2), object(9)\n",
      "memory usage: 600.0+ MB\n"
     ]
    }
   ],
   "source": [
    "train_df.info()"
   ]
  },
  {
   "cell_type": "code",
   "execution_count": 8,
   "metadata": {},
   "outputs": [
    {
     "data": {
      "text/plain": [
       "((4007367, 24), (47021, 23))"
      ]
     },
     "execution_count": 8,
     "metadata": {},
     "output_type": "execute_result"
    }
   ],
   "source": [
    "train_df.shape,test_df.shape"
   ]
  },
  {
   "cell_type": "code",
   "execution_count": 9,
   "metadata": {},
   "outputs": [],
   "source": [
    "train_df.to_csv('train_dic.csv', index=False)\n",
    "test_df.to_csv('test_dic.csv', index=False)"
   ]
  }
 ],
 "metadata": {
  "kernelspec": {
   "display_name": "base",
   "language": "python",
   "name": "python3"
  },
  "language_info": {
   "codemirror_mode": {
    "name": "ipython",
    "version": 3
   },
   "file_extension": ".py",
   "mimetype": "text/x-python",
   "name": "python",
   "nbconvert_exporter": "python",
   "pygments_lexer": "ipython3",
   "version": "3.12.4"
  }
 },
 "nbformat": 4,
 "nbformat_minor": 2
}
