{
 "cells": [
  {
   "cell_type": "code",
   "execution_count": 1,
   "metadata": {},
   "outputs": [],
   "source": [
    "import pandas as pd\n",
    "import numpy as np\n",
    "# 读取数据\n",
    "train_df = pd.read_csv('train_d.csv')\n",
    "test_df = pd.read_csv('test_d.csv')"
   ]
  },
  {
   "cell_type": "code",
   "execution_count": 2,
   "metadata": {},
   "outputs": [
    {
     "data": {
      "text/plain": [
       "name\n",
       "Banana_10       5606\n",
       "Toust_13        5606\n",
       "Date_1          5602\n",
       "Orange_14       5601\n",
       "Bread_198       5600\n",
       "                ... \n",
       "Watermelon_1       8\n",
       "Decoration_0       8\n",
       "Apple_71           7\n",
       "Ginger_5           7\n",
       "Strawberry_4       7\n",
       "Name: count, Length: 2653, dtype: int64"
      ]
     },
     "execution_count": 2,
     "metadata": {},
     "output_type": "execute_result"
    }
   ],
   "source": [
    "train_df['name'].value_counts()"
   ]
  },
  {
   "cell_type": "code",
   "execution_count": 3,
   "metadata": {},
   "outputs": [
    {
     "data": {
      "text/plain": [
       "product_unique_id\n",
       "1279    5606\n",
       "1009    5606\n",
       "2087    5602\n",
       "1280    5601\n",
       "2312    5600\n",
       "        ... \n",
       "32         8\n",
       "2214       8\n",
       "1226       7\n",
       "1899       7\n",
       "122        7\n",
       "Name: count, Length: 2653, dtype: int64"
      ]
     },
     "execution_count": 3,
     "metadata": {},
     "output_type": "execute_result"
    }
   ],
   "source": [
    "train_df['product_unique_id'].value_counts()"
   ]
  },
  {
   "cell_type": "code",
   "execution_count": 4,
   "metadata": {},
   "outputs": [
    {
     "data": {
      "text/plain": [
       "Index(['unique_id', 'date', 'warehouse', 'total_orders', 'sales',\n",
       "       'sell_price_main', 'type_0_discount', 'type_1_discount',\n",
       "       'type_2_discount', 'type_3_discount', 'type_4_discount',\n",
       "       'type_5_discount', 'type_6_discount', 'holiday_name', 'holiday',\n",
       "       'shops_closed', 'winter_school_holidays', 'school_holidays',\n",
       "       'product_unique_id', 'name', 'L1_category_name_en',\n",
       "       'L2_category_name_en', 'L3_category_name_en', 'L4_category_name_en',\n",
       "       'year', 'month_sin', 'month_cos', 'day_sin', 'day_cos'],\n",
       "      dtype='object')"
      ]
     },
     "execution_count": 4,
     "metadata": {},
     "output_type": "execute_result"
    }
   ],
   "source": [
    "train_df.columns"
   ]
  },
  {
   "cell_type": "markdown",
   "metadata": {},
   "source": [
    "## 处理name列，均值替换"
   ]
  },
  {
   "cell_type": "code",
   "execution_count": 5,
   "metadata": {},
   "outputs": [],
   "source": [
    "# 定义需要处理的列\n",
    "columns_to_process = ['name','warehouse', 'holiday_name', 'L1_category_name_en', 'L2_category_name_en', 'L3_category_name_en', 'L4_category_name_en']\n",
    "\n",
    "# 对每一列进行处理\n",
    "for column in columns_to_process:\n",
    "    # 在 train 数据上按列分组，计算 sales 的均值\n",
    "    mean_sales = train_df.groupby(column)['sales'].mean().reset_index()\n",
    "    mean_sales.rename(columns={'sales': f'{column}_mean'}, inplace=True)\n",
    "    \n",
    "    # 对均值进行log平滑处理\n",
    "    mean_sales[f'{column}_mean'] = np.log1p(mean_sales[f'{column}_mean'])  # log1p是 log(x+1) 防止log(0)\n",
    "   \n",
    "    # 将均值合并到 train 数据中\n",
    "    train_df = train_df.merge(mean_sales, on=column, how='left')\n",
    "    \n",
    "    # 将均值合并到 test 数据中\n",
    "    test_df = test_df.merge(mean_sales, on=column, how='left')\n",
    "    if column not in  ['warehouse','L1_category_name_en']:\n",
    "        # 删除原始列（如果需要）\n",
    "        train_df.drop(columns=[column], inplace=True)\n",
    "        test_df.drop(columns=[column], inplace=True)\n"
   ]
  },
  {
   "cell_type": "code",
   "execution_count": 6,
   "metadata": {},
   "outputs": [
    {
     "data": {
      "text/plain": [
       "Index(['unique_id', 'date', 'warehouse', 'total_orders', 'sales',\n",
       "       'sell_price_main', 'type_0_discount', 'type_1_discount',\n",
       "       'type_2_discount', 'type_3_discount', 'type_4_discount',\n",
       "       'type_5_discount', 'type_6_discount', 'holiday', 'shops_closed',\n",
       "       'winter_school_holidays', 'school_holidays', 'product_unique_id',\n",
       "       'L1_category_name_en', 'year', 'month_sin', 'month_cos', 'day_sin',\n",
       "       'day_cos', 'year_mean', 'name_mean', 'warehouse_mean',\n",
       "       'holiday_name_mean', 'L1_category_name_en_mean',\n",
       "       'L2_category_name_en_mean', 'L3_category_name_en_mean',\n",
       "       'L4_category_name_en_mean'],\n",
       "      dtype='object')"
      ]
     },
     "execution_count": 6,
     "metadata": {},
     "output_type": "execute_result"
    }
   ],
   "source": [
    "train_df.columns"
   ]
  },
  {
   "cell_type": "code",
   "execution_count": 7,
   "metadata": {},
   "outputs": [
    {
     "data": {
      "text/html": [
       "<div>\n",
       "<style scoped>\n",
       "    .dataframe tbody tr th:only-of-type {\n",
       "        vertical-align: middle;\n",
       "    }\n",
       "\n",
       "    .dataframe tbody tr th {\n",
       "        vertical-align: top;\n",
       "    }\n",
       "\n",
       "    .dataframe thead th {\n",
       "        text-align: right;\n",
       "    }\n",
       "</style>\n",
       "<table border=\"1\" class=\"dataframe\">\n",
       "  <thead>\n",
       "    <tr style=\"text-align: right;\">\n",
       "      <th></th>\n",
       "      <th>unique_id</th>\n",
       "      <th>date</th>\n",
       "      <th>warehouse</th>\n",
       "      <th>total_orders</th>\n",
       "      <th>sell_price_main</th>\n",
       "      <th>type_0_discount</th>\n",
       "      <th>type_1_discount</th>\n",
       "      <th>type_2_discount</th>\n",
       "      <th>type_3_discount</th>\n",
       "      <th>type_4_discount</th>\n",
       "      <th>...</th>\n",
       "      <th>day_sin</th>\n",
       "      <th>day_cos</th>\n",
       "      <th>year_mean</th>\n",
       "      <th>name_mean</th>\n",
       "      <th>warehouse_mean</th>\n",
       "      <th>holiday_name_mean</th>\n",
       "      <th>L1_category_name_en_mean</th>\n",
       "      <th>L2_category_name_en_mean</th>\n",
       "      <th>L3_category_name_en_mean</th>\n",
       "      <th>L4_category_name_en_mean</th>\n",
       "    </tr>\n",
       "  </thead>\n",
       "  <tbody>\n",
       "    <tr>\n",
       "      <th>0</th>\n",
       "      <td>1226</td>\n",
       "      <td>2024-06-03</td>\n",
       "      <td>Brno_1</td>\n",
       "      <td>8679.0</td>\n",
       "      <td>13.13</td>\n",
       "      <td>0.00000</td>\n",
       "      <td>0.0</td>\n",
       "      <td>0.0</td>\n",
       "      <td>0.0</td>\n",
       "      <td>0.0</td>\n",
       "      <td>...</td>\n",
       "      <td>0.571268</td>\n",
       "      <td>0.820763</td>\n",
       "      <td>4.751643</td>\n",
       "      <td>2.500326</td>\n",
       "      <td>5.116883</td>\n",
       "      <td>4.700045</td>\n",
       "      <td>4.810312</td>\n",
       "      <td>4.231460</td>\n",
       "      <td>3.168247</td>\n",
       "      <td>4.926504</td>\n",
       "    </tr>\n",
       "    <tr>\n",
       "      <th>1</th>\n",
       "      <td>1226</td>\n",
       "      <td>2024-06-11</td>\n",
       "      <td>Brno_1</td>\n",
       "      <td>8795.0</td>\n",
       "      <td>13.13</td>\n",
       "      <td>0.15873</td>\n",
       "      <td>0.0</td>\n",
       "      <td>0.0</td>\n",
       "      <td>0.0</td>\n",
       "      <td>0.0</td>\n",
       "      <td>...</td>\n",
       "      <td>0.790776</td>\n",
       "      <td>-0.612106</td>\n",
       "      <td>4.751643</td>\n",
       "      <td>2.500326</td>\n",
       "      <td>5.116883</td>\n",
       "      <td>4.700045</td>\n",
       "      <td>4.810312</td>\n",
       "      <td>4.231460</td>\n",
       "      <td>3.168247</td>\n",
       "      <td>4.926504</td>\n",
       "    </tr>\n",
       "    <tr>\n",
       "      <th>2</th>\n",
       "      <td>1226</td>\n",
       "      <td>2024-06-13</td>\n",
       "      <td>Brno_1</td>\n",
       "      <td>10009.0</td>\n",
       "      <td>13.13</td>\n",
       "      <td>0.15873</td>\n",
       "      <td>0.0</td>\n",
       "      <td>0.0</td>\n",
       "      <td>0.0</td>\n",
       "      <td>0.0</td>\n",
       "      <td>...</td>\n",
       "      <td>0.485302</td>\n",
       "      <td>-0.874347</td>\n",
       "      <td>4.751643</td>\n",
       "      <td>2.500326</td>\n",
       "      <td>5.116883</td>\n",
       "      <td>4.700045</td>\n",
       "      <td>4.810312</td>\n",
       "      <td>4.231460</td>\n",
       "      <td>3.168247</td>\n",
       "      <td>4.926504</td>\n",
       "    </tr>\n",
       "    <tr>\n",
       "      <th>3</th>\n",
       "      <td>1226</td>\n",
       "      <td>2024-06-15</td>\n",
       "      <td>Brno_1</td>\n",
       "      <td>8482.0</td>\n",
       "      <td>13.13</td>\n",
       "      <td>0.15873</td>\n",
       "      <td>0.0</td>\n",
       "      <td>0.0</td>\n",
       "      <td>0.0</td>\n",
       "      <td>0.0</td>\n",
       "      <td>...</td>\n",
       "      <td>0.101168</td>\n",
       "      <td>-0.994869</td>\n",
       "      <td>4.751643</td>\n",
       "      <td>2.500326</td>\n",
       "      <td>5.116883</td>\n",
       "      <td>4.700045</td>\n",
       "      <td>4.810312</td>\n",
       "      <td>4.231460</td>\n",
       "      <td>3.168247</td>\n",
       "      <td>4.926504</td>\n",
       "    </tr>\n",
       "    <tr>\n",
       "      <th>4</th>\n",
       "      <td>1226</td>\n",
       "      <td>2024-06-09</td>\n",
       "      <td>Brno_1</td>\n",
       "      <td>8195.0</td>\n",
       "      <td>13.13</td>\n",
       "      <td>0.00000</td>\n",
       "      <td>0.0</td>\n",
       "      <td>0.0</td>\n",
       "      <td>0.0</td>\n",
       "      <td>0.0</td>\n",
       "      <td>...</td>\n",
       "      <td>0.968077</td>\n",
       "      <td>-0.250653</td>\n",
       "      <td>4.751643</td>\n",
       "      <td>2.500326</td>\n",
       "      <td>5.116883</td>\n",
       "      <td>4.700045</td>\n",
       "      <td>4.810312</td>\n",
       "      <td>4.231460</td>\n",
       "      <td>3.168247</td>\n",
       "      <td>4.926504</td>\n",
       "    </tr>\n",
       "    <tr>\n",
       "      <th>...</th>\n",
       "      <td>...</td>\n",
       "      <td>...</td>\n",
       "      <td>...</td>\n",
       "      <td>...</td>\n",
       "      <td>...</td>\n",
       "      <td>...</td>\n",
       "      <td>...</td>\n",
       "      <td>...</td>\n",
       "      <td>...</td>\n",
       "      <td>...</td>\n",
       "      <td>...</td>\n",
       "      <td>...</td>\n",
       "      <td>...</td>\n",
       "      <td>...</td>\n",
       "      <td>...</td>\n",
       "      <td>...</td>\n",
       "      <td>...</td>\n",
       "      <td>...</td>\n",
       "      <td>...</td>\n",
       "      <td>...</td>\n",
       "      <td>...</td>\n",
       "    </tr>\n",
       "    <tr>\n",
       "      <th>47016</th>\n",
       "      <td>4572</td>\n",
       "      <td>2024-06-03</td>\n",
       "      <td>Munich_1</td>\n",
       "      <td>5254.0</td>\n",
       "      <td>2.09</td>\n",
       "      <td>0.00000</td>\n",
       "      <td>0.0</td>\n",
       "      <td>0.0</td>\n",
       "      <td>0.0</td>\n",
       "      <td>0.0</td>\n",
       "      <td>...</td>\n",
       "      <td>0.571268</td>\n",
       "      <td>0.820763</td>\n",
       "      <td>4.751643</td>\n",
       "      <td>3.387993</td>\n",
       "      <td>4.610356</td>\n",
       "      <td>4.700045</td>\n",
       "      <td>4.748624</td>\n",
       "      <td>4.916336</td>\n",
       "      <td>4.852090</td>\n",
       "      <td>4.657718</td>\n",
       "    </tr>\n",
       "    <tr>\n",
       "      <th>47017</th>\n",
       "      <td>3735</td>\n",
       "      <td>2024-06-04</td>\n",
       "      <td>Prague_1</td>\n",
       "      <td>9698.0</td>\n",
       "      <td>11.00</td>\n",
       "      <td>0.00000</td>\n",
       "      <td>0.0</td>\n",
       "      <td>0.0</td>\n",
       "      <td>0.0</td>\n",
       "      <td>0.0</td>\n",
       "      <td>...</td>\n",
       "      <td>0.724793</td>\n",
       "      <td>0.688967</td>\n",
       "      <td>4.751643</td>\n",
       "      <td>4.619727</td>\n",
       "      <td>4.994743</td>\n",
       "      <td>4.700045</td>\n",
       "      <td>4.748624</td>\n",
       "      <td>4.916336</td>\n",
       "      <td>5.156690</td>\n",
       "      <td>5.910480</td>\n",
       "    </tr>\n",
       "    <tr>\n",
       "      <th>47018</th>\n",
       "      <td>3735</td>\n",
       "      <td>2024-06-03</td>\n",
       "      <td>Prague_1</td>\n",
       "      <td>10256.0</td>\n",
       "      <td>11.00</td>\n",
       "      <td>0.00000</td>\n",
       "      <td>0.0</td>\n",
       "      <td>0.0</td>\n",
       "      <td>0.0</td>\n",
       "      <td>0.0</td>\n",
       "      <td>...</td>\n",
       "      <td>0.571268</td>\n",
       "      <td>0.820763</td>\n",
       "      <td>4.751643</td>\n",
       "      <td>4.619727</td>\n",
       "      <td>4.994743</td>\n",
       "      <td>4.700045</td>\n",
       "      <td>4.748624</td>\n",
       "      <td>4.916336</td>\n",
       "      <td>5.156690</td>\n",
       "      <td>5.910480</td>\n",
       "    </tr>\n",
       "    <tr>\n",
       "      <th>47019</th>\n",
       "      <td>2129</td>\n",
       "      <td>2024-06-03</td>\n",
       "      <td>Brno_1</td>\n",
       "      <td>8679.0</td>\n",
       "      <td>37.75</td>\n",
       "      <td>0.00000</td>\n",
       "      <td>0.0</td>\n",
       "      <td>0.0</td>\n",
       "      <td>0.0</td>\n",
       "      <td>0.0</td>\n",
       "      <td>...</td>\n",
       "      <td>0.571268</td>\n",
       "      <td>0.820763</td>\n",
       "      <td>4.751643</td>\n",
       "      <td>6.292809</td>\n",
       "      <td>5.116883</td>\n",
       "      <td>4.700045</td>\n",
       "      <td>4.748624</td>\n",
       "      <td>4.916336</td>\n",
       "      <td>5.175857</td>\n",
       "      <td>4.657718</td>\n",
       "    </tr>\n",
       "    <tr>\n",
       "      <th>47020</th>\n",
       "      <td>3030</td>\n",
       "      <td>2024-06-03</td>\n",
       "      <td>Prague_2</td>\n",
       "      <td>5705.0</td>\n",
       "      <td>90.03</td>\n",
       "      <td>0.00000</td>\n",
       "      <td>0.0</td>\n",
       "      <td>0.0</td>\n",
       "      <td>0.0</td>\n",
       "      <td>0.0</td>\n",
       "      <td>...</td>\n",
       "      <td>0.571268</td>\n",
       "      <td>0.820763</td>\n",
       "      <td>4.751643</td>\n",
       "      <td>3.816835</td>\n",
       "      <td>4.333370</td>\n",
       "      <td>4.700045</td>\n",
       "      <td>4.748624</td>\n",
       "      <td>4.816184</td>\n",
       "      <td>4.890028</td>\n",
       "      <td>4.929503</td>\n",
       "    </tr>\n",
       "  </tbody>\n",
       "</table>\n",
       "<p>47021 rows × 31 columns</p>\n",
       "</div>"
      ],
      "text/plain": [
       "       unique_id        date warehouse  total_orders  sell_price_main  \\\n",
       "0           1226  2024-06-03    Brno_1        8679.0            13.13   \n",
       "1           1226  2024-06-11    Brno_1        8795.0            13.13   \n",
       "2           1226  2024-06-13    Brno_1       10009.0            13.13   \n",
       "3           1226  2024-06-15    Brno_1        8482.0            13.13   \n",
       "4           1226  2024-06-09    Brno_1        8195.0            13.13   \n",
       "...          ...         ...       ...           ...              ...   \n",
       "47016       4572  2024-06-03  Munich_1        5254.0             2.09   \n",
       "47017       3735  2024-06-04  Prague_1        9698.0            11.00   \n",
       "47018       3735  2024-06-03  Prague_1       10256.0            11.00   \n",
       "47019       2129  2024-06-03    Brno_1        8679.0            37.75   \n",
       "47020       3030  2024-06-03  Prague_2        5705.0            90.03   \n",
       "\n",
       "       type_0_discount  type_1_discount  type_2_discount  type_3_discount  \\\n",
       "0              0.00000              0.0              0.0              0.0   \n",
       "1              0.15873              0.0              0.0              0.0   \n",
       "2              0.15873              0.0              0.0              0.0   \n",
       "3              0.15873              0.0              0.0              0.0   \n",
       "4              0.00000              0.0              0.0              0.0   \n",
       "...                ...              ...              ...              ...   \n",
       "47016          0.00000              0.0              0.0              0.0   \n",
       "47017          0.00000              0.0              0.0              0.0   \n",
       "47018          0.00000              0.0              0.0              0.0   \n",
       "47019          0.00000              0.0              0.0              0.0   \n",
       "47020          0.00000              0.0              0.0              0.0   \n",
       "\n",
       "       type_4_discount  ...   day_sin   day_cos  year_mean  name_mean  \\\n",
       "0                  0.0  ...  0.571268  0.820763   4.751643   2.500326   \n",
       "1                  0.0  ...  0.790776 -0.612106   4.751643   2.500326   \n",
       "2                  0.0  ...  0.485302 -0.874347   4.751643   2.500326   \n",
       "3                  0.0  ...  0.101168 -0.994869   4.751643   2.500326   \n",
       "4                  0.0  ...  0.968077 -0.250653   4.751643   2.500326   \n",
       "...                ...  ...       ...       ...        ...        ...   \n",
       "47016              0.0  ...  0.571268  0.820763   4.751643   3.387993   \n",
       "47017              0.0  ...  0.724793  0.688967   4.751643   4.619727   \n",
       "47018              0.0  ...  0.571268  0.820763   4.751643   4.619727   \n",
       "47019              0.0  ...  0.571268  0.820763   4.751643   6.292809   \n",
       "47020              0.0  ...  0.571268  0.820763   4.751643   3.816835   \n",
       "\n",
       "       warehouse_mean  holiday_name_mean  L1_category_name_en_mean  \\\n",
       "0            5.116883           4.700045                  4.810312   \n",
       "1            5.116883           4.700045                  4.810312   \n",
       "2            5.116883           4.700045                  4.810312   \n",
       "3            5.116883           4.700045                  4.810312   \n",
       "4            5.116883           4.700045                  4.810312   \n",
       "...               ...                ...                       ...   \n",
       "47016        4.610356           4.700045                  4.748624   \n",
       "47017        4.994743           4.700045                  4.748624   \n",
       "47018        4.994743           4.700045                  4.748624   \n",
       "47019        5.116883           4.700045                  4.748624   \n",
       "47020        4.333370           4.700045                  4.748624   \n",
       "\n",
       "      L2_category_name_en_mean L3_category_name_en_mean  \\\n",
       "0                     4.231460                 3.168247   \n",
       "1                     4.231460                 3.168247   \n",
       "2                     4.231460                 3.168247   \n",
       "3                     4.231460                 3.168247   \n",
       "4                     4.231460                 3.168247   \n",
       "...                        ...                      ...   \n",
       "47016                 4.916336                 4.852090   \n",
       "47017                 4.916336                 5.156690   \n",
       "47018                 4.916336                 5.156690   \n",
       "47019                 4.916336                 5.175857   \n",
       "47020                 4.816184                 4.890028   \n",
       "\n",
       "       L4_category_name_en_mean  \n",
       "0                      4.926504  \n",
       "1                      4.926504  \n",
       "2                      4.926504  \n",
       "3                      4.926504  \n",
       "4                      4.926504  \n",
       "...                         ...  \n",
       "47016                  4.657718  \n",
       "47017                  5.910480  \n",
       "47018                  5.910480  \n",
       "47019                  4.657718  \n",
       "47020                  4.929503  \n",
       "\n",
       "[47021 rows x 31 columns]"
      ]
     },
     "execution_count": 7,
     "metadata": {},
     "output_type": "execute_result"
    }
   ],
   "source": [
    "test_df"
   ]
  },
  {
   "cell_type": "code",
   "execution_count": 8,
   "metadata": {},
   "outputs": [
    {
     "data": {
      "text/plain": [
       "4.7000448912398705"
      ]
     },
     "execution_count": 8,
     "metadata": {},
     "output_type": "execute_result"
    }
   ],
   "source": [
    "test_df['holiday_name_mean'].max()"
   ]
  },
  {
   "cell_type": "markdown",
   "metadata": {},
   "source": [
    "## 处理折扣列，删除折扣，改为最大折扣"
   ]
  },
  {
   "cell_type": "code",
   "execution_count": 9,
   "metadata": {},
   "outputs": [],
   "source": [
    "# 定义折扣列\n",
    "discount_columns = [\n",
    "    'type_0_discount', 'type_1_discount', 'type_2_discount',\n",
    "    'type_3_discount', 'type_4_discount', 'type_5_discount', 'type_6_discount'\n",
    "]\n",
    "\n",
    "# 对 train 和 test 数据分别处理\n",
    "for df in [train_df, test_df]:\n",
    "    # 1. 是否有折扣列\n",
    "    df['is_discount'] = df[discount_columns].apply(lambda row: 1 if row.any() else 0, axis=1).astype(bool)\n",
    "    \n",
    "    # 2. 最高折扣值列\n",
    "    df['max_discount'] = df[discount_columns].apply(lambda row: row.max(), axis=1).astype('float64')"
   ]
  },
  {
   "cell_type": "code",
   "execution_count": 10,
   "metadata": {},
   "outputs": [
    {
     "data": {
      "text/plain": [
       "Index(['unique_id', 'date', 'warehouse', 'total_orders', 'sales',\n",
       "       'sell_price_main', 'type_0_discount', 'type_1_discount',\n",
       "       'type_2_discount', 'type_3_discount', 'type_4_discount',\n",
       "       'type_5_discount', 'type_6_discount', 'holiday', 'shops_closed',\n",
       "       'winter_school_holidays', 'school_holidays', 'product_unique_id',\n",
       "       'L1_category_name_en', 'year', 'month_sin', 'month_cos', 'day_sin',\n",
       "       'day_cos', 'year_mean', 'name_mean', 'warehouse_mean',\n",
       "       'holiday_name_mean', 'L1_category_name_en_mean',\n",
       "       'L2_category_name_en_mean', 'L3_category_name_en_mean',\n",
       "       'L4_category_name_en_mean', 'is_discount', 'max_discount'],\n",
       "      dtype='object')"
      ]
     },
     "execution_count": 10,
     "metadata": {},
     "output_type": "execute_result"
    }
   ],
   "source": [
    "train_df.columns"
   ]
  },
  {
   "cell_type": "code",
   "execution_count": 11,
   "metadata": {},
   "outputs": [],
   "source": [
    "train_df.drop(columns=discount_columns, inplace=True)\n",
    "test_df.drop(columns=discount_columns, inplace=True)"
   ]
  },
  {
   "cell_type": "code",
   "execution_count": 12,
   "metadata": {},
   "outputs": [
    {
     "name": "stdout",
     "output_type": "stream",
     "text": [
      "<class 'pandas.core.frame.DataFrame'>\n",
      "RangeIndex: 4007367 entries, 0 to 4007366\n",
      "Data columns (total 27 columns):\n",
      " #   Column                    Dtype  \n",
      "---  ------                    -----  \n",
      " 0   unique_id                 int64  \n",
      " 1   date                      object \n",
      " 2   warehouse                 object \n",
      " 3   total_orders              float64\n",
      " 4   sales                     float64\n",
      " 5   sell_price_main           float64\n",
      " 6   holiday                   bool   \n",
      " 7   shops_closed              bool   \n",
      " 8   winter_school_holidays    bool   \n",
      " 9   school_holidays           bool   \n",
      " 10  product_unique_id         int64  \n",
      " 11  L1_category_name_en       object \n",
      " 12  year                      object \n",
      " 13  month_sin                 float64\n",
      " 14  month_cos                 float64\n",
      " 15  day_sin                   float64\n",
      " 16  day_cos                   float64\n",
      " 17  year_mean                 float64\n",
      " 18  name_mean                 float64\n",
      " 19  warehouse_mean            float64\n",
      " 20  holiday_name_mean         float64\n",
      " 21  L1_category_name_en_mean  float64\n",
      " 22  L2_category_name_en_mean  float64\n",
      " 23  L3_category_name_en_mean  float64\n",
      " 24  L4_category_name_en_mean  float64\n",
      " 25  is_discount               bool   \n",
      " 26  max_discount              float64\n",
      "dtypes: bool(5), float64(16), int64(2), object(4)\n",
      "memory usage: 691.7+ MB\n"
     ]
    }
   ],
   "source": [
    "train_df.info()"
   ]
  },
  {
   "cell_type": "code",
   "execution_count": 13,
   "metadata": {},
   "outputs": [
    {
     "data": {
      "text/plain": [
       "((4007367, 27), (47021, 26))"
      ]
     },
     "execution_count": 13,
     "metadata": {},
     "output_type": "execute_result"
    }
   ],
   "source": [
    "train_df.shape,test_df.shape"
   ]
  },
  {
   "cell_type": "code",
   "execution_count": 14,
   "metadata": {},
   "outputs": [],
   "source": [
    "train_unid = train_df['unique_id']\n",
    "val_unid = test_df['unique_id']\n",
    "train_date = train_df['date']\n",
    "val_date = test_df['date']\n",
    "\n",
    "y_train = train_df['sales']\n",
    "train_df.drop(['sales'], axis=1, inplace=True)"
   ]
  },
  {
   "cell_type": "code",
   "execution_count": 15,
   "metadata": {},
   "outputs": [
    {
     "data": {
      "text/plain": [
       "Index(['unique_id', 'date', 'warehouse', 'total_orders', 'sell_price_main',\n",
       "       'holiday', 'shops_closed', 'winter_school_holidays', 'school_holidays',\n",
       "       'product_unique_id', 'L1_category_name_en', 'year', 'month_sin',\n",
       "       'month_cos', 'day_sin', 'day_cos', 'year_mean', 'name_mean',\n",
       "       'warehouse_mean', 'holiday_name_mean', 'L1_category_name_en_mean',\n",
       "       'L2_category_name_en_mean', 'L3_category_name_en_mean',\n",
       "       'L4_category_name_en_mean', 'is_discount', 'max_discount'],\n",
       "      dtype='object')"
      ]
     },
     "execution_count": 15,
     "metadata": {},
     "output_type": "execute_result"
    }
   ],
   "source": [
    "train_df.columns"
   ]
  },
  {
   "cell_type": "code",
   "execution_count": 16,
   "metadata": {},
   "outputs": [
    {
     "data": {
      "text/plain": [
       "['total_orders',\n",
       " 'sell_price_main',\n",
       " 'month_sin',\n",
       " 'month_cos',\n",
       " 'day_sin',\n",
       " 'day_cos',\n",
       " 'year_mean',\n",
       " 'name_mean',\n",
       " 'warehouse_mean',\n",
       " 'holiday_name_mean',\n",
       " 'L1_category_name_en_mean',\n",
       " 'L2_category_name_en_mean',\n",
       " 'L3_category_name_en_mean',\n",
       " 'L4_category_name_en_mean',\n",
       " 'max_discount']"
      ]
     },
     "execution_count": 16,
     "metadata": {},
     "output_type": "execute_result"
    }
   ],
   "source": [
    "train_df.select_dtypes(include=['float64']).columns.tolist()"
   ]
  },
  {
   "cell_type": "code",
   "execution_count": 17,
   "metadata": {},
   "outputs": [
    {
     "data": {
      "text/plain": [
       "((4007367, 32), (47021, 32))"
      ]
     },
     "execution_count": 17,
     "metadata": {},
     "output_type": "execute_result"
    }
   ],
   "source": [
    "from sklearn.preprocessing import StandardScaler\n",
    "\n",
    "standard_col = ['total_orders',\n",
    " 'sell_price_main',\n",
    " 'name_mean',\n",
    " 'holiday_name_mean',\n",
    " 'warehouse_mean',\n",
    " 'L1_category_name_en_mean',\n",
    " 'L2_category_name_en_mean',\n",
    " 'L3_category_name_en_mean',\n",
    " 'L4_category_name_en_mean',\n",
    " 'max_discount']\n",
    "\n",
    "\n",
    "# 去掉 unique_id 和 date 列\n",
    "train_df.drop(['unique_id', 'date','product_unique_id'], axis=1, inplace=True)\n",
    "test_df.drop(['unique_id', 'date','product_unique_id'], axis=1, inplace=True)\n",
    "# 记录训练集和验证集的大小\n",
    "train_size = len(train_df)\n",
    "val_size = len(test_df)\n",
    "# 拼接训练集和验证集\n",
    "combined_data = pd.concat([train_df, test_df], axis=0)\n",
    "\n",
    "# 对拼接后的数据进行独热编码\n",
    "combined_data = pd.get_dummies(combined_data, drop_first=True)\n",
    "\n",
    "# 拆分回训练集和验证集\n",
    "train_df = combined_data.iloc[:train_size, :]\n",
    "test_df = combined_data.iloc[train_size:, :]\n",
    "\n",
    "# 标准化\n",
    "scaler = StandardScaler()\n",
    "train_df.loc[:, standard_col] = scaler.fit_transform(train_df[standard_col])\n",
    "test_df.loc[:, standard_col] = scaler.transform(test_df[standard_col])\n",
    "train_df.shape, test_df.shape\n"
   ]
  },
  {
   "cell_type": "code",
   "execution_count": 18,
   "metadata": {},
   "outputs": [
    {
     "name": "stdout",
     "output_type": "stream",
     "text": [
      "<class 'pandas.core.frame.DataFrame'>\n",
      "Index: 4007367 entries, 0 to 4007366\n",
      "Data columns (total 32 columns):\n",
      " #   Column                                   Dtype  \n",
      "---  ------                                   -----  \n",
      " 0   total_orders                             float64\n",
      " 1   sell_price_main                          float64\n",
      " 2   holiday                                  bool   \n",
      " 3   shops_closed                             bool   \n",
      " 4   winter_school_holidays                   bool   \n",
      " 5   school_holidays                          bool   \n",
      " 6   month_sin                                float64\n",
      " 7   month_cos                                float64\n",
      " 8   day_sin                                  float64\n",
      " 9   day_cos                                  float64\n",
      " 10  year_mean                                float64\n",
      " 11  name_mean                                float64\n",
      " 12  warehouse_mean                           float64\n",
      " 13  holiday_name_mean                        float64\n",
      " 14  L1_category_name_en_mean                 float64\n",
      " 15  L2_category_name_en_mean                 float64\n",
      " 16  L3_category_name_en_mean                 float64\n",
      " 17  L4_category_name_en_mean                 float64\n",
      " 18  is_discount                              bool   \n",
      " 19  max_discount                             float64\n",
      " 20  warehouse_Budapest_1                     bool   \n",
      " 21  warehouse_Frankfurt_1                    bool   \n",
      " 22  warehouse_Munich_1                       bool   \n",
      " 23  warehouse_Prague_1                       bool   \n",
      " 24  warehouse_Prague_2                       bool   \n",
      " 25  warehouse_Prague_3                       bool   \n",
      " 26  L1_category_name_en_Fruit and vegetable  bool   \n",
      " 27  L1_category_name_en_Meat and fish        bool   \n",
      " 28  year_year_2021                           bool   \n",
      " 29  year_year_2022                           bool   \n",
      " 30  year_year_2023                           bool   \n",
      " 31  year_year_2024                           bool   \n",
      "dtypes: bool(17), float64(15)\n",
      "memory usage: 554.1 MB\n"
     ]
    }
   ],
   "source": [
    "train_df.info()"
   ]
  },
  {
   "cell_type": "code",
   "execution_count": 19,
   "metadata": {},
   "outputs": [
    {
     "data": {
      "text/plain": [
       "((4007367, 35), (47021, 34))"
      ]
     },
     "execution_count": 19,
     "metadata": {},
     "output_type": "execute_result"
    }
   ],
   "source": [
    "train_df = train_df.copy()\n",
    "test_df = test_df.copy()\n",
    "train_df.loc[:, 'unique_id'] = train_unid\n",
    "test_df.loc[:, 'unique_id'] = val_unid\n",
    "train_df.loc[:, 'date'] = train_date\n",
    "test_df.loc[:, 'date'] = val_date\n",
    "train_df.loc[:, 'sales'] = y_train\n",
    "train_df.shape, test_df.shape"
   ]
  },
  {
   "cell_type": "code",
   "execution_count": 20,
   "metadata": {},
   "outputs": [
    {
     "data": {
      "text/plain": [
       "0          16.34\n",
       "1          12.63\n",
       "2          34.55\n",
       "3          34.52\n",
       "4          35.92\n",
       "           ...  \n",
       "4007362    26.56\n",
       "4007363    27.42\n",
       "4007364    33.39\n",
       "4007365    22.88\n",
       "4007366    32.10\n",
       "Name: sales, Length: 4007367, dtype: float64"
      ]
     },
     "execution_count": 20,
     "metadata": {},
     "output_type": "execute_result"
    }
   ],
   "source": [
    "train_df['sales']"
   ]
  },
  {
   "cell_type": "code",
   "execution_count": 21,
   "metadata": {},
   "outputs": [],
   "source": [
    "train_df.to_csv('train_smooth_all.csv', index=False)\n",
    "test_df.to_csv('test_smooth_all.csv', index=False)"
   ]
  }
 ],
 "metadata": {
  "kernelspec": {
   "display_name": "base",
   "language": "python",
   "name": "python3"
  },
  "language_info": {
   "codemirror_mode": {
    "name": "ipython",
    "version": 3
   },
   "file_extension": ".py",
   "mimetype": "text/x-python",
   "name": "python",
   "nbconvert_exporter": "python",
   "pygments_lexer": "ipython3",
   "version": "3.12.4"
  }
 },
 "nbformat": 4,
 "nbformat_minor": 2
}
