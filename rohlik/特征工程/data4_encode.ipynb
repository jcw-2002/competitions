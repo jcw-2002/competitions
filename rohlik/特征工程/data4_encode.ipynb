{
 "cells": [
  {
   "cell_type": "code",
   "execution_count": 2,
   "metadata": {},
   "outputs": [],
   "source": [
    "import pandas as pd\n",
    "import numpy as np\n",
    "# 读取数据\n",
    "train_df = pd.read_csv('train_dic.csv')\n",
    "test_df = pd.read_csv('test_dic.csv')"
   ]
  },
  {
   "cell_type": "code",
   "execution_count": 3,
   "metadata": {},
   "outputs": [
    {
     "data": {
      "text/plain": [
       "Index(['unique_id', 'date', 'warehouse', 'total_orders', 'sales',\n",
       "       'sell_price_main', 'holiday_name', 'holiday', 'shops_closed',\n",
       "       'winter_school_holidays', 'school_holidays', 'product_unique_id',\n",
       "       'name', 'L1_category_name_en', 'L2_category_name_en',\n",
       "       'L3_category_name_en', 'L4_category_name_en', 'year', 'month_sin',\n",
       "       'month_cos', 'day_sin', 'day_cos', 'is_discount', 'max_discount'],\n",
       "      dtype='object')"
      ]
     },
     "execution_count": 3,
     "metadata": {},
     "output_type": "execute_result"
    }
   ],
   "source": [
    "train_df.columns"
   ]
  },
  {
   "cell_type": "code",
   "execution_count": 4,
   "metadata": {},
   "outputs": [
    {
     "data": {
      "text/plain": [
       "warehouse\n",
       "Prague_1       780566\n",
       "Prague_3       779655\n",
       "Prague_2       770709\n",
       "Brno_1         643637\n",
       "Budapest_1     574582\n",
       "Munich_1       259287\n",
       "Frankfurt_1    198931\n",
       "Name: count, dtype: int64"
      ]
     },
     "execution_count": 4,
     "metadata": {},
     "output_type": "execute_result"
    }
   ],
   "source": [
    "train_df['warehouse']"
   ]
  },
  {
   "cell_type": "code",
   "execution_count": null,
   "metadata": {},
   "outputs": [],
   "source": [
    "# 定义需要处理的列\n",
    "columns_to_process = ['name','warehouse', 'holiday_name', 'L1_category_name_en', 'L2_category_name_en', 'L3_category_name_en', 'L4_category_name_en']\n",
    "\n",
    "# 对每一列进行处理\n",
    "for column in columns_to_process:\n",
    "    # 在 train 数据上按列分组，计算 sales 的均值\n",
    "    mean_sales = train_df.groupby(column)['sales'].mean().reset_index()\n",
    "    mean_sales.rename(columns={'sales': f'{column}_mean'}, inplace=True)\n",
    "    \n",
    "    # 对均值进行log平滑处理\n",
    "    mean_sales[f'{column}_mean'] = np.log1p(mean_sales[f'{column}_mean'])  # log1p是 log(x+1) 防止log(0)\n",
    "   \n",
    "    # 将均值合并到 train 数据中\n",
    "    train_df = train_df.merge(mean_sales, on=column, how='left')\n",
    "    \n",
    "    # 将均值合并到 test 数据中\n",
    "    test_df = test_df.merge(mean_sales, on=column, how='left')\n",
    "    if column not in  ['warehouse','L1_category_name_en']:\n",
    "        # 删除原始列（如果需要）\n",
    "        train_df.drop(columns=[column], inplace=True)\n",
    "        test_df.drop(columns=[column], inplace=True)\n"
   ]
  }
 ],
 "metadata": {
  "kernelspec": {
   "display_name": "base",
   "language": "python",
   "name": "python3"
  },
  "language_info": {
   "codemirror_mode": {
    "name": "ipython",
    "version": 3
   },
   "file_extension": ".py",
   "mimetype": "text/x-python",
   "name": "python",
   "nbconvert_exporter": "python",
   "pygments_lexer": "ipython3",
   "version": "3.12.4"
  }
 },
 "nbformat": 4,
 "nbformat_minor": 2
}
