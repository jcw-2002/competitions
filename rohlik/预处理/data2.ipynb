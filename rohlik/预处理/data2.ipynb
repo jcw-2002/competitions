{
 "cells": [
  {
   "cell_type": "code",
   "execution_count": null,
   "metadata": {},
   "outputs": [],
   "source": []
  },
  {
   "cell_type": "code",
   "execution_count": 1,
   "metadata": {},
   "outputs": [],
   "source": [
    "from sklearn.preprocessing import OneHotEncoder\n",
    "import pandas as pd\n",
    "train = pd.read_csv('train_d.csv')\n",
    "# test = pd.read_csv('test_d.csv')"
   ]
  },
  {
   "cell_type": "code",
   "execution_count": null,
   "metadata": {},
   "outputs": [],
   "source": [
    "train.head()\n"
   ]
  },
  {
   "cell_type": "code",
   "execution_count": null,
   "metadata": {},
   "outputs": [],
   "source": [
    "train.columns"
   ]
  },
  {
   "cell_type": "code",
   "execution_count": null,
   "metadata": {},
   "outputs": [],
   "source": [
    "train.info()"
   ]
  },
  {
   "cell_type": "code",
   "execution_count": 5,
   "metadata": {},
   "outputs": [],
   "source": [
    "# 将 date 列转换为日期类型\n",
    "train['date'] = pd.to_datetime(train['date'])\n",
    "# One-hot encode the data using pandas get_dummies\n",
    "train = pd.get_dummies(train,drop_first=True)\n",
    "# test = pd.get_dummies(test,drop_first=True)"
   ]
  },
  {
   "cell_type": "code",
   "execution_count": null,
   "metadata": {},
   "outputs": [],
   "source": [
    "train.info()"
   ]
  },
  {
   "cell_type": "code",
   "execution_count": 7,
   "metadata": {},
   "outputs": [],
   "source": [
    "# #标准化\n",
    "# from sklearn.preprocessing import StandardScaler\n",
    "# standard_col = ['total_orders',  'sell_price_main',\n",
    "#        'type_0_discount', 'type_1_discount', 'type_2_discount',\n",
    "#        'type_3_discount', 'type_4_discount', 'type_5_discount',\n",
    "#        'type_6_discount']\n",
    "\n",
    "# # 2. 将非布尔列转换为 float32\n",
    "# train[standard_col] = train[standard_col].astype('float32')\n",
    "\n",
    "# # 3. 对非布尔列进行标准化\n",
    "# scaler = StandardScaler()\n",
    "# train[standard_col] = scaler.fit_transform(train[standard_col])"
   ]
  },
  {
   "cell_type": "code",
   "execution_count": 8,
   "metadata": {},
   "outputs": [],
   "source": [
    "from sklearn.preprocessing import MinMaxScaler\n",
    "\n",
    "# 1. 定义需要归一化的列\n",
    "normalize_col = [\n",
    "    'total_orders', 'sell_price_main',\n",
    "    'type_0_discount', 'type_1_discount', 'type_2_discount',\n",
    "    'type_3_discount', 'type_4_discount', 'type_5_discount',\n",
    "    'type_6_discount'\n",
    "]\n",
    "\n",
    "# 2. 将非布尔列转换为 float32\n",
    "train[normalize_col] = train[normalize_col].astype('float32')\n",
    "\n",
    "# 3. 对非布尔列进行归一化\n",
    "scaler = MinMaxScaler()  # 默认范围是 [0, 1]\n",
    "train[normalize_col] = scaler.fit_transform(train[normalize_col])\n"
   ]
  },
  {
   "cell_type": "code",
   "execution_count": null,
   "metadata": {},
   "outputs": [],
   "source": [
    "train.head()"
   ]
  },
  {
   "cell_type": "code",
   "execution_count": null,
   "metadata": {},
   "outputs": [],
   "source": [
    "# 定义验证集的日期范围\n",
    "val_start_date1 = pd.to_datetime('2023-06-03')\n",
    "val_end_date1 = pd.to_datetime('2023-06-16')\n",
    "\n",
    "val_start_date2 = pd.to_datetime('2024-05-03')\n",
    "val_end_date2 = pd.to_datetime('2024-06-03')\n",
    "\n",
    "# 划分第一个验证集\n",
    "val1 = train[(train['date'] >= val_start_date1) & (train['date'] <= val_end_date1)]  # 2023-06-03 到 2023-06-16 的数据\n",
    "\n",
    "# 划分第二个验证集\n",
    "val2 = train[(train['date'] >= val_start_date2) & (train['date'] <= val_end_date2)]  # 2024-05-03 到 2024-06-03 的数据\n",
    "\n",
    "# 合并两个验证集\n",
    "val = pd.concat([val1, val2])\n",
    "\n",
    "# 划分训练集\n",
    "# 训练集是除了两个验证集之外的数据\n",
    "train_before_val1 = train[train['date'] < val_start_date1]  # 第一个验证集之前的数据\n",
    "train_between_vals = train[(train['date'] > val_end_date1) & (train['date'] < val_start_date2)]  # 两个验证集之间的数据\n",
    "train_after_val2 = train[train['date'] > val_end_date2]  # 第二个验证集之后的数据\n",
    "\n",
    "# 合并训练集\n",
    "train = pd.concat([train_before_val1, train_between_vals, train_after_val2])\n",
    "\n",
    "# 检查数据量\n",
    "print(\"训练集数据量：\", len(train))\n",
    "print(\"验证集数据量：\", len(val))"
   ]
  },
  {
   "cell_type": "code",
   "execution_count": 11,
   "metadata": {},
   "outputs": [],
   "source": [
    "train.to_csv('x_train_maxmin.csv', index=False)\n",
    "val.to_csv('x_val_maxmin.csv', index=False)"
   ]
  }
 ],
 "metadata": {
  "kernelspec": {
   "display_name": "base",
   "language": "python",
   "name": "python3"
  },
  "language_info": {
   "codemirror_mode": {
    "name": "ipython",
    "version": 3
   },
   "file_extension": ".py",
   "mimetype": "text/x-python",
   "name": "python",
   "nbconvert_exporter": "python",
   "pygments_lexer": "ipython3",
   "version": "3.12.4"
  }
 },
 "nbformat": 4,
 "nbformat_minor": 2
}
