{
 "cells": [
  {
   "cell_type": "code",
   "execution_count": 1,
   "id": "7383dee9",
   "metadata": {},
   "outputs": [],
   "source": [
    "# 导入\n",
    "import numpy as np\n",
    "import pandas as pd\n",
    "import warnings\n",
    "warnings.filterwarnings(\"ignore\")"
   ]
  },
  {
   "cell_type": "code",
   "execution_count": 2,
   "id": "6c8a3413",
   "metadata": {},
   "outputs": [],
   "source": [
    "import joblib\n",
    "from sklearn.preprocessing import StandardScaler"
   ]
  },
  {
   "cell_type": "code",
   "execution_count": 3,
   "id": "2b61bdbd",
   "metadata": {},
   "outputs": [],
   "source": [
    "df_name = './data/附件2/'+ 'M202.csv'#'M201.csv'\n",
    "df = pd.read_csv(df_name)"
   ]
  },
  {
   "cell_type": "code",
   "execution_count": 4,
   "id": "ea5644ad",
   "metadata": {},
   "outputs": [],
   "source": [
    "error_list=['物料推送装置故障1001',\n",
    "'物料检测装置故障2001',\n",
    "'填装装置检测故障4001',\n",
    "'填装装置定位故障4002',\n",
    "'填装装置填装故障4003',\n",
    "'加盖装置定位故障5001',\n",
    "'加盖装置加盖故障5002',\n",
    "'拧盖装置定位故障6001',\n",
    "'拧盖装置拧盖故障6002'\n",
    "]"
   ]
  },
  {
   "cell_type": "code",
   "execution_count": 5,
   "id": "11d16086",
   "metadata": {},
   "outputs": [],
   "source": [
    "n = len(df.columns)\n",
    "# 选择倒数前九列\n",
    "dfx = df.iloc[:, :n-9]\n",
    "# 删除生产线编号列\n",
    "dfx = dfx.drop(['生产线编号'], axis=1)\n",
    "X=dfx\n",
    "# 特征缩放\n",
    "scaler = StandardScaler()\n",
    "X = scaler.fit_transform(X)"
   ]
  },
  {
   "cell_type": "code",
   "execution_count": 6,
   "id": "21d27546",
   "metadata": {},
   "outputs": [],
   "source": [
    "def wdata(df_error,i):\n",
    "    # 创建DataFrame\n",
    "    df = pd.DataFrame(df_error, columns=[\"日期\", \"时间\"])\n",
    "\n",
    "    # 计算连续时间之间的差值\n",
    "    df[\"TimeDiff\"] = df[\"时间\"].diff()\n",
    "\n",
    "    # 创建一个掩码，用于标识新的连续时间段的开始\n",
    "    mask = df[\"TimeDiff\"] != 1\n",
    "\n",
    "    # 分组连续时间段并计算起始时间和持续时间\n",
    "    result = df.groupby([\"日期\", mask.cumsum()])[\"时间\"].agg([\"first\", \"count\"]).reset_index()\n",
    "    # 重命名列\n",
    "    result.columns = [\"日期\", \"序号\", \"开始时间\", \"持续时间\"]\n",
    "    result = result.drop(['序号'], axis=1)\n",
    "    result_name = 'M202_pred' +error_list[i] +'.xlsx'\n",
    "    result.to_excel(result_name)\n",
    "    "
   ]
  },
  {
   "cell_type": "code",
   "execution_count": 7,
   "id": "9569a963",
   "metadata": {},
   "outputs": [
    {
     "name": "stdout",
     "output_type": "stream",
     "text": [
      "物料推送装置故障1001\n",
      "0    7522843\n",
      "1       3876\n",
      "Name: count, dtype: int64\n",
      "物料推送装置故障1001  finish\n",
      "物料检测装置故障2001\n",
      "0    7480770\n",
      "1      45949\n",
      "Name: count, dtype: int64\n",
      "物料检测装置故障2001  finish\n",
      "填装装置检测故障4001\n",
      "0    7231479\n",
      "1     295240\n",
      "Name: count, dtype: int64\n",
      "填装装置检测故障4001  finish\n",
      "填装装置定位故障4002\n",
      "0    7522083\n",
      "1       4636\n",
      "Name: count, dtype: int64\n",
      "填装装置定位故障4002  finish\n",
      "填装装置填装故障4003\n",
      "0    7463632\n",
      "1      63087\n",
      "Name: count, dtype: int64\n",
      "填装装置填装故障4003  finish\n",
      "加盖装置定位故障5001\n",
      "0    7473204\n",
      "1      53515\n",
      "Name: count, dtype: int64\n",
      "加盖装置定位故障5001  finish\n",
      "加盖装置加盖故障5002\n",
      "0    7475945\n",
      "1      50774\n",
      "Name: count, dtype: int64\n",
      "加盖装置加盖故障5002  finish\n",
      "拧盖装置定位故障6001\n",
      "0    7448301\n",
      "1      78418\n",
      "Name: count, dtype: int64\n",
      "拧盖装置定位故障6001  finish\n",
      "拧盖装置拧盖故障6002\n",
      "0    7456840\n",
      "1      69879\n",
      "Name: count, dtype: int64\n",
      "拧盖装置拧盖故障6002  finish\n"
     ]
    }
   ],
   "source": [
    "for i in range(len(error_list)):#len(error_list)\n",
    "    name = error_list[i] + '.pkl'\n",
    "    # 加载之前保存的集成模型\n",
    "    loaded_ensemble = joblib.load(name)\n",
    "    # 使用已加载的集成模型进行预测\n",
    "    predictions = loaded_ensemble.predict(X)\n",
    "    dfx[error_list[i]]= predictions\n",
    "    print(dfx[error_list[i]].value_counts())\n",
    "    df_error = dfx[dfx[error_list[i]]==1]\n",
    "    wdata(df_error,i)\n",
    "    print(f'{error_list[i]}  finish')\n"
   ]
  },
  {
   "cell_type": "code",
   "execution_count": null,
   "id": "bd300026",
   "metadata": {},
   "outputs": [],
   "source": []
  }
 ],
 "metadata": {
  "kernelspec": {
   "display_name": "Python 3 (ipykernel)",
   "language": "python",
   "name": "python3"
  },
  "language_info": {
   "codemirror_mode": {
    "name": "ipython",
    "version": 3
   },
   "file_extension": ".py",
   "mimetype": "text/x-python",
   "name": "python",
   "nbconvert_exporter": "python",
   "pygments_lexer": "ipython3",
   "version": "3.10.9"
  }
 },
 "nbformat": 4,
 "nbformat_minor": 5
}
