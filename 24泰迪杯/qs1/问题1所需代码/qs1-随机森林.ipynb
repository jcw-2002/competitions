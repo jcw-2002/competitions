{
 "cells": [
  {
   "cell_type": "code",
   "execution_count": 1,
   "id": "adb03b76",
   "metadata": {},
   "outputs": [],
   "source": [
    "# 导入\n",
    "import numpy as np\n",
    "import pandas as pd\n",
    "import seaborn as sns\n",
    "import matplotlib.pyplot as plt\n",
    "plt.rcParams['font.sans-serif'] = ['SimHei']  # 设置中文字体为黑体\n",
    "plt.rcParams['axes.unicode_minus'] = False  # 正确显示负号"
   ]
  },
  {
   "cell_type": "code",
   "execution_count": 2,
   "id": "46f2eb5c",
   "metadata": {},
   "outputs": [],
   "source": [
    "from sklearn.model_selection import train_test_split\n",
    "from sklearn.tree import DecisionTreeClassifier\n",
    "from sklearn.metrics import accuracy_score, classification_report\n",
    "from sklearn.preprocessing import MultiLabelBinarizer\n",
    "from sklearn.multiclass import OneVsRestClassifier\n",
    "from sklearn.metrics import multilabel_confusion_matrix"
   ]
  },
  {
   "cell_type": "code",
   "execution_count": 3,
   "id": "01f292ea",
   "metadata": {},
   "outputs": [
    {
     "data": {
      "text/plain": [
       "填装装置填装故障4003\n",
       "0    633797\n",
       "1      2712\n",
       "Name: count, dtype: int64"
      ]
     },
     "execution_count": 3,
     "metadata": {},
     "output_type": "execute_result"
    }
   ],
   "source": [
    "# 读取数据\n",
    "# df = pd.read_excel(\"222.xlsx\")\n",
    "df = pd.read_csv(\"M101.csv\", index_col=0) #M101 test\n",
    "df = df.drop(['生产线编号'], axis=1)\n",
    "df.set_index('时间', inplace=True)\n",
    "n = len(df.columns)\n",
    "\n",
    "# 选择倒数前九列\n",
    "dfx = df.iloc[:, :n-9]\n",
    "\n",
    "# 将特定列中所有不等于 0 的值替换为 1\n",
    "df['填装装置填装故障4003'] = (df['填装装置填装故障4003'] != 0).astype(int)\n",
    "df['填装装置填装故障4003'].value_counts()"
   ]
  },
  {
   "cell_type": "code",
   "execution_count": 4,
   "id": "02691838",
   "metadata": {},
   "outputs": [],
   "source": [
    "X=dfx\n",
    "y=df['填装装置填装故障4003']\n",
    "# 划分训练集和测试集\n",
    "\n",
    "X_train, X_test, y_train, y_test = train_test_split(X, y, test_size=0.3, random_state=42, shuffle=True)"
   ]
  },
  {
   "cell_type": "code",
   "execution_count": 5,
   "id": "1773e192",
   "metadata": {},
   "outputs": [
    {
     "name": "stdout",
     "output_type": "stream",
     "text": [
      "[[189888    255]\n",
      " [     0    810]]\n",
      "              precision    recall  f1-score   support\n",
      "\n",
      "           0       1.00      1.00      1.00    190143\n",
      "           1       0.76      1.00      0.86       810\n",
      "\n",
      "    accuracy                           1.00    190953\n",
      "   macro avg       0.88      1.00      0.93    190953\n",
      "weighted avg       1.00      1.00      1.00    190953\n",
      "\n"
     ]
    }
   ],
   "source": [
    "from sklearn.ensemble import RandomForestClassifier\n",
    "from sklearn.model_selection import train_test_split\n",
    "from sklearn.metrics import classification_report, confusion_matrix\n",
    "# 初始化随机森林分类器\n",
    "rf_model = RandomForestClassifier(n_estimators=100, random_state=42)  # n_estimators是树的数量\n",
    "\n",
    "# 训练模型\n",
    "rf_model.fit(X_train, y_train)\n",
    "\n",
    "# 预测测试集\n",
    "y_pred = rf_model.predict(X_test)\n",
    "\n",
    "# 输出性能报告\n",
    "print(confusion_matrix(y_test, y_pred))\n",
    "print(classification_report(y_test, y_pred))"
   ]
  },
  {
   "cell_type": "code",
   "execution_count": null,
   "id": "ea0f69b2",
   "metadata": {},
   "outputs": [],
   "source": []
  }
 ],
 "metadata": {
  "kernelspec": {
   "display_name": "Python 3 (ipykernel)",
   "language": "python",
   "name": "python3"
  },
  "language_info": {
   "codemirror_mode": {
    "name": "ipython",
    "version": 3
   },
   "file_extension": ".py",
   "mimetype": "text/x-python",
   "name": "python",
   "nbconvert_exporter": "python",
   "pygments_lexer": "ipython3",
   "version": "3.10.9"
  }
 },
 "nbformat": 4,
 "nbformat_minor": 5
}
